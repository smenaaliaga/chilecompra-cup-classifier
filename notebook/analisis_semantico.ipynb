{
 "cells": [
  {
   "cell_type": "markdown",
   "id": "c1fa99e6",
   "metadata": {},
   "source": [
    "# Análisis Relaciones Semanticas - ChileCompra"
   ]
  },
  {
   "cell_type": "code",
   "execution_count": null,
   "id": "344cf464",
   "metadata": {},
   "outputs": [],
   "source": [
    "import sys\n",
    "import pandas as pd\n",
    "import numpy as np\n",
    "import plotly.express as px\n",
    "import matplotlib.pyplot as plt\n",
    "import warnings\n",
    "warnings.filterwarnings('ignore')\n",
    "\n",
    "# Limpiar caché si hay problemas\n",
    "if 'umap_modulo' in sys.modules:\n",
    "    del sys.modules['umap_modulo']\n",
    "\n",
    "from umap_modulo import generar_embeddings_completos, analizar_filtrado, AnalisisSemantico"
   ]
  },
  {
   "cell_type": "code",
   "execution_count": 88,
   "id": "f5fabb3f",
   "metadata": {},
   "outputs": [
    {
     "name": "stdout",
     "output_type": "stream",
     "text": [
      "GENERANDO EMBEDDINGS PARA DATASET COMPLETO\n",
      "Iniciando carga de modelos...\n",
      "SentenceTransformers seleccionados: ['miniLM-L6-v2']\n",
      "FastText habilitado: True\n",
      "Cargando modelo SentenceTransformer miniLM-L6-v2...\n",
      "Modelo miniLM-L6-v2 cargado correctamente\n",
      "\n",
      "🚀 Cargando FastText...\n",
      "Descargando modelo FastText para español...\n",
      "Cargando modelo FastText...\n",
      "Modelo FastText español cargado correctamente\n",
      "FastText cargado exitosamente\n",
      "\n",
      "Preparando textos completos...\n",
      "✅ 1838 textos preparados\n",
      "\n",
      "🤖 Generando embeddings completos...\n",
      "Generando embeddings con SentenceTransformer miniLM-L6-v2...\n",
      "Modelo miniLM-L6-v2 cargado correctamente\n",
      "\n",
      "🚀 Cargando FastText...\n",
      "Descargando modelo FastText para español...\n",
      "Cargando modelo FastText...\n",
      "Modelo FastText español cargado correctamente\n",
      "FastText cargado exitosamente\n",
      "\n",
      "Preparando textos completos...\n",
      "✅ 1838 textos preparados\n",
      "\n",
      "🤖 Generando embeddings completos...\n",
      "Generando embeddings con SentenceTransformer miniLM-L6-v2...\n"
     ]
    },
    {
     "name": "stderr",
     "output_type": "stream",
     "text": [
      "Warning : `load_model` does not return WordVectorModel or SupervisedModel any more, but a `FastText` object which is very similar.\n"
     ]
    },
    {
     "data": {
      "application/vnd.jupyter.widget-view+json": {
       "model_id": "693c0119957c44af90e1c46c80fa871d",
       "version_major": 2,
       "version_minor": 0
      },
      "text/plain": [
       "Batches:   0%|          | 0/58 [00:00<?, ?it/s]"
      ]
     },
     "metadata": {},
     "output_type": "display_data"
    },
    {
     "name": "stdout",
     "output_type": "stream",
     "text": [
      "✅ Embeddings generados para miniLM-L6-v2\n",
      "   Dimensiones: (1838, 384)\n",
      "\n",
      "🚀 Generando embeddings con FastText...\n",
      "✅ Embeddings FastText generados\n",
      "   Dimensiones: (1838, 300)\n",
      "GENERANDO EMBEDDINGS PARA DATASET COMPLETO\n",
      "Iniciando carga de modelos...\n",
      "SentenceTransformers seleccionados: ['miniLM-L6-v2']\n",
      "FastText habilitado: True\n",
      "Cargando modelo SentenceTransformer miniLM-L6-v2...\n",
      "GENERANDO EMBEDDINGS PARA DATASET COMPLETO\n",
      "Iniciando carga de modelos...\n",
      "SentenceTransformers seleccionados: ['miniLM-L6-v2']\n",
      "FastText habilitado: True\n",
      "Cargando modelo SentenceTransformer miniLM-L6-v2...\n",
      "Modelo miniLM-L6-v2 cargado correctamente\n",
      "\n",
      "🚀 Cargando FastText...\n",
      "Descargando modelo FastText para español...\n",
      "Cargando modelo FastText...\n",
      "Modelo FastText español cargado correctamente\n",
      "FastText cargado exitosamente\n",
      "\n",
      "Preparando textos completos...\n",
      "Modelo miniLM-L6-v2 cargado correctamente\n",
      "\n",
      "🚀 Cargando FastText...\n",
      "Descargando modelo FastText para español...\n",
      "Cargando modelo FastText...\n",
      "Modelo FastText español cargado correctamente\n",
      "FastText cargado exitosamente\n",
      "\n",
      "Preparando textos completos...\n",
      "✅ 1838 textos preparados\n",
      "\n",
      "🤖 Generando embeddings completos...\n",
      "Generando embeddings con SentenceTransformer miniLM-L6-v2...\n",
      "✅ 1838 textos preparados\n",
      "\n",
      "🤖 Generando embeddings completos...\n",
      "Generando embeddings con SentenceTransformer miniLM-L6-v2...\n"
     ]
    },
    {
     "name": "stderr",
     "output_type": "stream",
     "text": [
      "Warning : `load_model` does not return WordVectorModel or SupervisedModel any more, but a `FastText` object which is very similar.\n"
     ]
    },
    {
     "data": {
      "application/vnd.jupyter.widget-view+json": {
       "model_id": "d03511a329b3475eaa57919a2c399896",
       "version_major": 2,
       "version_minor": 0
      },
      "text/plain": [
       "Batches:   0%|          | 0/58 [00:00<?, ?it/s]"
      ]
     },
     "metadata": {},
     "output_type": "display_data"
    },
    {
     "name": "stdout",
     "output_type": "stream",
     "text": [
      "✅ Embeddings generados para miniLM-L6-v2\n",
      "   Dimensiones: (1838, 384)\n",
      "\n",
      "🚀 Generando embeddings con FastText...\n",
      "✅ Embeddings FastText generados\n",
      "   Dimensiones: (1838, 300)\n"
     ]
    }
   ],
   "source": [
    "df = pd.read_csv('data/chilecompra_80.csv', sep=';')\n",
    "\n",
    "# Embeddings completo\n",
    "embeddings_completo = generar_embeddings_completos(\n",
    "    df=df,\n",
    "    columna_texto='NombreroductoGenerico',\n",
    "    modelos_sentence_transformers=['miniLM-L6-v2'], # , 'e5-base-v2'\n",
    "    usar_fasttext=True\n",
    ")\n",
    "# Embeddings 80\n",
    "embeddings_80 = generar_embeddings_completos(\n",
    "    df=df,\n",
    "    columna_texto='NombreroductoGenerico',\n",
    "    modelos_sentence_transformers=['miniLM-L6-v2'], # , 'e5-base-v2'\n",
    "    usar_fasttext=True\n",
    ")\n",
    "\n",
    "del df"
   ]
  },
  {
   "cell_type": "code",
   "execution_count": null,
   "id": "8725ae13",
   "metadata": {},
   "outputs": [
    {
     "name": "stdout",
     "output_type": "stream",
     "text": [
      "Aplicando UMAP a embeddings de miniLM-L6-v2...\n",
      "❌ Error aplicando UMAP a miniLM-L6-v2: Found array with 0 sample(s) (shape=(0, 384)) while a minimum of 1 is required.\n",
      "Aplicando UMAP a embeddings de fasttext-spanish...\n",
      "❌ Error aplicando UMAP a fasttext-spanish: Found array with 0 sample(s) (shape=(0, 300)) while a minimum of 1 is required.\n"
     ]
    }
   ],
   "source": [
    "# Analizar múltiples CUPs\n",
    "cups_interes = ['36']\n",
    "resultado = analizar_filtrado(\n",
    "    embeddings_completo,\n",
    "    ['cup_n1'],           # Columna a filtrar\n",
    "    cups_interes,         # Múltiples valores\n",
    "    columnas_color=['cup_n1']\n",
    ")"
   ]
  },
  {
   "cell_type": "code",
   "execution_count": null,
   "id": "e91d7168",
   "metadata": {},
   "outputs": [],
   "source": []
  }
 ],
 "metadata": {
  "kernelspec": {
   "display_name": ".venv",
   "language": "python",
   "name": "python3"
  },
  "language_info": {
   "codemirror_mode": {
    "name": "ipython",
    "version": 3
   },
   "file_extension": ".py",
   "mimetype": "text/x-python",
   "name": "python",
   "nbconvert_exporter": "python",
   "pygments_lexer": "ipython3",
   "version": "3.12.11"
  }
 },
 "nbformat": 4,
 "nbformat_minor": 5
}
